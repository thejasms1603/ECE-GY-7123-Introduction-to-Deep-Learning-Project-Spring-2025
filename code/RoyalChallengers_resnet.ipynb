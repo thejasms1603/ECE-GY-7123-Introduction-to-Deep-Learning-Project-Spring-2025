{
  "cells": [
    {
      "cell_type": "markdown",
      "id": "zX9jbyAGdbcN",
      "metadata": {
        "id": "zX9jbyAGdbcN"
      },
      "source": [
        "# Kaggle Import Data"
      ]
    },
    {
      "cell_type": "code",
      "execution_count": 1,
      "id": "JMKUhuAhdRq8",
      "metadata": {
        "colab": {
          "base_uri": "https://localhost:8080/",
          "height": 85,
          "referenced_widgets": [
            "1dac5112cf2345508f0748166e9f5128",
            "124b1255a28f4eafb6fadfd4f4eedb7e",
            "230a0433841742bdb95f1797814d3eba",
            "41032f447a844ba48230a1e62ba2ac21",
            "1afad6b1784e4cc5a269c5682be10a4d",
            "551f40b92c814eb1b130c99ed6a0ba60",
            "1e48790c84ac44e5b91ac15bd7dfa8f4",
            "41817eaa54d64f9288a036a01550bede",
            "8ed51858f1c04d7d8ee12e0c159d419d",
            "3c097d82221d41278ae540e24e95c854",
            "febc58c1728f415aaac5bd81f0bb1c1b",
            "4071d4a512ec434994811bd0e67c744a",
            "4202dff9896145f2a51c68a86cf4439e",
            "4de7709584144cd3b7861f75b9f33604",
            "a299e9c9d7b64b4680a40bee3fbf6d66",
            "a8628bd2f3364e07a02cc645227c8f83",
            "09417ecb6ba849c9ad661f337d9b64bd",
            "71575210b2ca49c095a9b95d14710218",
            "c5b4d172cf694da2b66ec49820895943",
            "2b0ffe04e3e74b748a98fb774e5af0f6",
            "9e899aaa0c6e4ab7ad0f4113de23d759",
            "aaf9214441bd459e9505589a4b991baf",
            "2771d0b36a634a878cad697794dde1c1"
          ]
        },
        "id": "JMKUhuAhdRq8",
        "outputId": "7821581f-c597-4d39-9019-d189ca976fbd"
      },
      "outputs": [
        {
          "data": {
            "application/vnd.jupyter.widget-view+json": {
              "model_id": "1dac5112cf2345508f0748166e9f5128",
              "version_major": 2,
              "version_minor": 0
            },
            "text/plain": [
              "VBox(children=(HTML(value='<center> <img\\nsrc=https://www.kaggle.com/static/images/site-logo.png\\nalt=\\'Kaggle…"
            ]
          },
          "metadata": {},
          "output_type": "display_data"
        },
        {
          "name": "stdout",
          "output_type": "stream",
          "text": [
            "Kaggle credentials set.\n",
            "Kaggle credentials successfully validated.\n"
          ]
        }
      ],
      "source": [
        "# IMPORTANT: SOME KAGGLE DATA SOURCES ARE PRIVATE\n",
        "# RUN THIS CELL IN ORDER TO IMPORT YOUR KAGGLE DATA SOURCES.\n",
        "import kagglehub\n",
        "kagglehub.login()"
      ]
    },
    {
      "cell_type": "code",
      "execution_count": 2,
      "id": "MUHjiKzCdk6e",
      "metadata": {
        "colab": {
          "base_uri": "https://localhost:8080/"
        },
        "id": "MUHjiKzCdk6e",
        "outputId": "fc513061-38dd-4eff-e052-873b41e0be92"
      },
      "outputs": [
        {
          "name": "stdout",
          "output_type": "stream",
          "text": [
            "Downloading from https://www.kaggle.com/api/v1/competitions/data/download-all/deep-learning-spring-2025-project-1...\n"
          ]
        },
        {
          "name": "stderr",
          "output_type": "stream",
          "text": [
            "100%|██████████| 189M/189M [00:01<00:00, 104MB/s]"
          ]
        },
        {
          "name": "stdout",
          "output_type": "stream",
          "text": [
            "Extracting files...\n"
          ]
        },
        {
          "name": "stderr",
          "output_type": "stream",
          "text": [
            "\n"
          ]
        },
        {
          "name": "stdout",
          "output_type": "stream",
          "text": [
            "Data source import complete.\n"
          ]
        }
      ],
      "source": [
        "# IMPORTANT: RUN THIS CELL IN ORDER TO IMPORT YOUR KAGGLE DATA SOURCES,\n",
        "# THEN FEEL FREE TO DELETE THIS CELL.\n",
        "# NOTE: THIS NOTEBOOK ENVIRONMENT DIFFERS FROM KAGGLE'S PYTHON\n",
        "# ENVIRONMENT SO THERE MAY BE MISSING LIBRARIES USED BY YOUR\n",
        "# NOTEBOOK.\n",
        "\n",
        "deep_learning_spring_2025_project_1_path = kagglehub.competition_download('deep-learning-spring-2025-project-1')\n",
        "\n",
        "print('Data source import complete.')"
      ]
    },
    {
      "cell_type": "code",
      "execution_count": 3,
      "id": "nhxwvLyJdlwy",
      "metadata": {
        "colab": {
          "base_uri": "https://localhost:8080/"
        },
        "id": "nhxwvLyJdlwy",
        "outputId": "eb9636ab-e90b-4b3c-a115-7da1a58d485a"
      },
      "outputs": [
        {
          "name": "stdout",
          "output_type": "stream",
          "text": [
            "/root/.cache/kagglehub/competitions/deep-learning-spring-2025-project-1\n"
          ]
        }
      ],
      "source": [
        "print(deep_learning_spring_2025_project_1_path)"
      ]
    },
    {
      "cell_type": "markdown",
      "id": "2d1ec47d",
      "metadata": {
        "id": "2d1ec47d"
      },
      "source": [
        "# CIFAR-10 Classification using WideResNet\n",
        "This notebook loads CIFAR-10 data, preprocesses it, defines a WideResNet model, trains it, and evaluates performance."
      ]
    },
    {
      "cell_type": "code",
      "execution_count": 4,
      "id": "a27901e3",
      "metadata": {
        "colab": {
          "base_uri": "https://localhost:8080/"
        },
        "id": "a27901e3",
        "outputId": "8b4e4963-5565-4515-e56f-37c973bb8cd0"
      },
      "outputs": [
        {
          "name": "stdout",
          "output_type": "stream",
          "text": [
            "Using device: cuda\n"
          ]
        }
      ],
      "source": [
        "\n",
        "import numpy as np\n",
        "import os\n",
        "import pickle\n",
        "import torch\n",
        "import torch.nn as nn\n",
        "import torch.optim as optim\n",
        "import torchvision.transforms as transforms\n",
        "from torch.utils.data import DataLoader\n",
        "from torch.optim.lr_scheduler import CosineAnnealingLR\n",
        "from torchsummary import summary\n",
        "import matplotlib.pyplot as plt\n",
        "import seaborn as sns\n",
        "\n",
        "# Set device\n",
        "device = torch.device(\"cuda\" if torch.cuda.is_available() else \"cpu\")\n",
        "print(\"Using device:\", device)\n"
      ]
    },
    {
      "cell_type": "markdown",
      "id": "e8896f1f",
      "metadata": {
        "id": "e8896f1f"
      },
      "source": [
        "## Load CIFAR-10 Data"
      ]
    },
    {
      "cell_type": "code",
      "execution_count": 5,
      "id": "ee0b78d3",
      "metadata": {
        "colab": {
          "base_uri": "https://localhost:8080/"
        },
        "id": "ee0b78d3",
        "outputId": "5c079d0a-270c-4a46-adb3-ffc5d6d1abf1"
      },
      "outputs": [
        {
          "name": "stdout",
          "output_type": "stream",
          "text": [
            "Class Labels: ['airplane', 'automobile', 'bird', 'cat', 'deer', 'dog', 'frog', 'horse', 'ship', 'truck']\n"
          ]
        }
      ],
      "source": [
        "\n",
        "# Load CIFAR-10 data\n",
        "def load_cifar_batch(file):\n",
        "    with open(file, 'rb') as fo:\n",
        "        dict = pickle.load(fo, encoding='bytes')\n",
        "    return dict\n",
        "\n",
        "cifar10_dir = '/root/.cache/kagglehub/competitions/deep-learning-spring-2025-project-1/cifar-10-python/cifar-10-batches-py'\n",
        "meta_data_dict = load_cifar_batch(os.path.join(cifar10_dir, 'batches.meta'))\n",
        "label_names = [label.decode('utf-8') for label in meta_data_dict[b'label_names']]\n",
        "print(\"Class Labels:\", label_names)\n"
      ]
    },
    {
      "cell_type": "markdown",
      "id": "bfe2d89b",
      "metadata": {
        "id": "bfe2d89b"
      },
      "source": [
        "## Data Preprocessing and Augmentation"
      ]
    },
    {
      "cell_type": "code",
      "execution_count": 6,
      "id": "abd4f82f",
      "metadata": {
        "id": "abd4f82f"
      },
      "outputs": [],
      "source": [
        "\n",
        "# Load and preprocess training data\n",
        "train_data, train_labels = [], []\n",
        "for i in range(1, 6):\n",
        "    batch = load_cifar_batch(os.path.join(cifar10_dir, f'data_batch_{i}'))\n",
        "    train_data.append(batch[b'data'])\n",
        "    train_labels += batch[b'labels']\n",
        "train_data = np.vstack(train_data).reshape(-1, 3, 32, 32).transpose(0, 2, 3, 1)\n",
        "train_labels = np.array(train_labels)\n",
        "\n",
        "# Define transformations\n",
        "transform = transforms.Compose([\n",
        "    transforms.ToPILImage(),\n",
        "    transforms.RandomRotation(10),\n",
        "    transforms.ColorJitter(brightness=0.1, contrast=0.1, saturation=0.1),\n",
        "    transforms.RandomHorizontalFlip(p=0.5),\n",
        "    transforms.RandomCrop(32, padding=4),\n",
        "    transforms.ToTensor(),\n",
        "    transforms.Normalize((0.4914, 0.4822, 0.4465), (0.247, 0.243, 0.261)),\n",
        "    transforms.RandomErasing(p=0.2, scale=(0.02, 0.1), value=1.0, inplace=False)\n",
        "])\n",
        "\n",
        "# Define dataset class\n",
        "class CustomCIFAR10Dataset(torch.utils.data.Dataset):\n",
        "    def __init__(self, images, labels, transform=None):\n",
        "        self.images = images\n",
        "        self.labels = labels\n",
        "        self.transform = transform\n",
        "\n",
        "    def __len__(self):\n",
        "        return len(self.images)\n",
        "\n",
        "    def __getitem__(self, idx):\n",
        "        img = self.images[idx]\n",
        "        label = self.labels[idx]\n",
        "        if self.transform:\n",
        "            img = self.transform(img)\n",
        "        return img, label\n"
      ]
    },
    {
      "cell_type": "markdown",
      "id": "04bc0bb2",
      "metadata": {
        "id": "04bc0bb2"
      },
      "source": [
        "## Load Training and Validation Datasets"
      ]
    },
    {
      "cell_type": "code",
      "execution_count": 7,
      "id": "f3c45686",
      "metadata": {
        "id": "f3c45686"
      },
      "outputs": [],
      "source": [
        "\n",
        "# Load datasets\n",
        "train_dataset = CustomCIFAR10Dataset(train_data, train_labels, transform=transform)\n",
        "train_loader = DataLoader(train_dataset, batch_size=256, shuffle=True, num_workers=4)\n",
        "\n",
        "batch_test_dict = load_cifar_batch(os.path.join(cifar10_dir, 'test_batch'))\n",
        "val_images = batch_test_dict[b'data'].reshape(-1, 3, 32, 32).transpose(0, 2, 3, 1)\n",
        "val_labels = np.array(batch_test_dict[b'labels'])\n",
        "val_dataset = CustomCIFAR10Dataset(val_images, val_labels, transform=transform)\n",
        "val_loader = DataLoader(val_dataset, batch_size=256, shuffle=False, num_workers=4)\n"
      ]
    },
    {
      "cell_type": "code",
      "execution_count": 8,
      "id": "DRLtjiXviM6n",
      "metadata": {
        "colab": {
          "base_uri": "https://localhost:8080/",
          "height": 132
        },
        "id": "DRLtjiXviM6n",
        "outputId": "ec975688-941a-46a9-c9b1-465fd10d4cfa"
      },
      "outputs": [
        {
          "data": {
            "image/png": "[encoded data removed]",
            "text/plain": [
              "<Figure size 1500x500 with 10 Axes>"
            ]
          },
          "metadata": {},
          "output_type": "display_data"
        }
      ],
      "source": [
        "# Function to plot sample images from dataset\n",
        "def plot_sample_images(dataset, label_names, num_images=10):\n",
        "    # Define the mean and std used for normalization\n",
        "    mean = np.array([0.4914, 0.4822, 0.4465])\n",
        "    std = np.array([0.247, 0.243, 0.261])\n",
        "\n",
        "    fig, axes = plt.subplots(1, num_images, figsize=(15, 5))\n",
        "    for i in range(num_images):\n",
        "        img, label = dataset[i]\n",
        "        # Denormalize the image\n",
        "        img = img.permute(1, 2, 0).numpy()  # Convert from (C, H, W) to (H, W, C)\n",
        "        img = std * img + mean  # Denormalize\n",
        "        img = np.clip(img, 0, 1)  # Clip values to be in the range [0, 1]\n",
        "        axes[i].imshow(img)\n",
        "        axes[i].set_title(label_names[label])\n",
        "        axes[i].axis('off')\n",
        "    plt.show()\n",
        "\n",
        "plot_sample_images(train_dataset, label_names, num_images=10)"
      ]
    },
    {
      "cell_type": "markdown",
      "id": "146ec79a",
      "metadata": {
        "id": "146ec79a"
      },
      "source": [
        "## Define Custom ResNet Model"
      ]
    },
    {
      "cell_type": "code",
      "execution_count": 9,
      "id": "2a8098c3",
      "metadata": {
        "colab": {
          "base_uri": "https://localhost:8080/"
        },
        "id": "2a8098c3",
        "outputId": "12b521f1-347d-43a7-b980-ca16fd0e88c6"
      },
      "outputs": [
        {
          "name": "stdout",
          "output_type": "stream",
          "text": [
            "----------------------------------------------------------------\n",
            "        Layer (type)               Output Shape         Param #\n",
            "================================================================\n",
            "            Conv2d-1           [-1, 32, 32, 32]             864\n",
            "       BatchNorm2d-2           [-1, 32, 32, 32]              64\n",
            "              ReLU-3           [-1, 32, 32, 32]               0\n",
            "            Conv2d-4           [-1, 64, 32, 32]           2,048\n",
            "       BatchNorm2d-5           [-1, 64, 32, 32]             128\n",
            "            Conv2d-6           [-1, 64, 32, 32]          18,432\n",
            "       BatchNorm2d-7           [-1, 64, 32, 32]             128\n",
            "              ReLU-8           [-1, 64, 32, 32]               0\n",
            "            Conv2d-9           [-1, 64, 32, 32]          36,864\n",
            "      BatchNorm2d-10           [-1, 64, 32, 32]             128\n",
            "             ReLU-11           [-1, 64, 32, 32]               0\n",
            "      ResNetBlock-12           [-1, 64, 32, 32]               0\n",
            "           Conv2d-13           [-1, 64, 32, 32]          36,864\n",
            "      BatchNorm2d-14           [-1, 64, 32, 32]             128\n",
            "             ReLU-15           [-1, 64, 32, 32]               0\n",
            "           Conv2d-16           [-1, 64, 32, 32]          36,864\n",
            "      BatchNorm2d-17           [-1, 64, 32, 32]             128\n",
            "             ReLU-18           [-1, 64, 32, 32]               0\n",
            "      ResNetBlock-19           [-1, 64, 32, 32]               0\n",
            "           Conv2d-20           [-1, 64, 32, 32]          36,864\n",
            "      BatchNorm2d-21           [-1, 64, 32, 32]             128\n",
            "             ReLU-22           [-1, 64, 32, 32]               0\n",
            "           Conv2d-23           [-1, 64, 32, 32]          36,864\n",
            "      BatchNorm2d-24           [-1, 64, 32, 32]             128\n",
            "             ReLU-25           [-1, 64, 32, 32]               0\n",
            "      ResNetBlock-26           [-1, 64, 32, 32]               0\n",
            "           Conv2d-27          [-1, 128, 16, 16]           8,192\n",
            "      BatchNorm2d-28          [-1, 128, 16, 16]             256\n",
            "           Conv2d-29          [-1, 128, 16, 16]          73,728\n",
            "      BatchNorm2d-30          [-1, 128, 16, 16]             256\n",
            "             ReLU-31          [-1, 128, 16, 16]               0\n",
            "           Conv2d-32          [-1, 128, 16, 16]         147,456\n",
            "      BatchNorm2d-33          [-1, 128, 16, 16]             256\n",
            "             ReLU-34          [-1, 128, 16, 16]               0\n",
            "      ResNetBlock-35          [-1, 128, 16, 16]               0\n",
            "           Conv2d-36          [-1, 128, 16, 16]         147,456\n",
            "      BatchNorm2d-37          [-1, 128, 16, 16]             256\n",
            "             ReLU-38          [-1, 128, 16, 16]               0\n",
            "           Conv2d-39          [-1, 128, 16, 16]         147,456\n",
            "      BatchNorm2d-40          [-1, 128, 16, 16]             256\n",
            "             ReLU-41          [-1, 128, 16, 16]               0\n",
            "      ResNetBlock-42          [-1, 128, 16, 16]               0\n",
            "           Conv2d-43          [-1, 128, 16, 16]         147,456\n",
            "      BatchNorm2d-44          [-1, 128, 16, 16]             256\n",
            "             ReLU-45          [-1, 128, 16, 16]               0\n",
            "           Conv2d-46          [-1, 128, 16, 16]         147,456\n",
            "      BatchNorm2d-47          [-1, 128, 16, 16]             256\n",
            "             ReLU-48          [-1, 128, 16, 16]               0\n",
            "      ResNetBlock-49          [-1, 128, 16, 16]               0\n",
            "           Conv2d-50            [-1, 256, 8, 8]          32,768\n",
            "      BatchNorm2d-51            [-1, 256, 8, 8]             512\n",
            "           Conv2d-52            [-1, 256, 8, 8]         294,912\n",
            "      BatchNorm2d-53            [-1, 256, 8, 8]             512\n",
            "             ReLU-54            [-1, 256, 8, 8]               0\n",
            "           Conv2d-55            [-1, 256, 8, 8]         589,824\n",
            "      BatchNorm2d-56            [-1, 256, 8, 8]             512\n",
            "             ReLU-57            [-1, 256, 8, 8]               0\n",
            "      ResNetBlock-58            [-1, 256, 8, 8]               0\n",
            "           Conv2d-59            [-1, 256, 8, 8]         589,824\n",
            "      BatchNorm2d-60            [-1, 256, 8, 8]             512\n",
            "             ReLU-61            [-1, 256, 8, 8]               0\n",
            "           Conv2d-62            [-1, 256, 8, 8]         589,824\n",
            "      BatchNorm2d-63            [-1, 256, 8, 8]             512\n",
            "             ReLU-64            [-1, 256, 8, 8]               0\n",
            "      ResNetBlock-65            [-1, 256, 8, 8]               0\n",
            "           Conv2d-66            [-1, 256, 8, 8]         589,824\n",
            "      BatchNorm2d-67            [-1, 256, 8, 8]             512\n",
            "             ReLU-68            [-1, 256, 8, 8]               0\n",
            "           Conv2d-69            [-1, 256, 8, 8]         589,824\n",
            "      BatchNorm2d-70            [-1, 256, 8, 8]             512\n",
            "             ReLU-71            [-1, 256, 8, 8]               0\n",
            "      ResNetBlock-72            [-1, 256, 8, 8]               0\n",
            "AdaptiveAvgPool2d-73            [-1, 256, 1, 1]               0\n",
            "           Linear-74                   [-1, 10]           2,570\n",
            "================================================================\n",
            "Total params: 4,310,570\n",
            "Trainable params: 4,310,570\n",
            "Non-trainable params: 0\n",
            "----------------------------------------------------------------\n",
            "Input size (MB): 0.01\n",
            "Forward/backward pass size (MB): 20.88\n",
            "Params size (MB): 16.44\n",
            "Estimated Total Size (MB): 37.33\n",
            "----------------------------------------------------------------\n"
          ]
        }
      ],
      "source": [
        "\n",
        "# Define WideResNet model\n",
        "class ResNetBlock(nn.Module):\n",
        "    def __init__(self, in_channels, out_channels, stride=1):\n",
        "        super(ResNetBlock, self).__init__()\n",
        "        self.conv1 = nn.Conv2d(in_channels, out_channels, kernel_size=3, stride=stride, padding=1, bias=False)\n",
        "        self.bn1 = nn.BatchNorm2d(out_channels)\n",
        "        self.relu = nn.ReLU(inplace=True)\n",
        "        self.conv2 = nn.Conv2d(out_channels, out_channels, kernel_size=3, stride=1, padding=1, bias=False)\n",
        "        self.bn2 = nn.BatchNorm2d(out_channels)\n",
        "        self.skip = nn.Sequential()\n",
        "        if stride != 1 or in_channels != out_channels:\n",
        "            self.skip = nn.Sequential(\n",
        "                nn.Conv2d(in_channels, out_channels, kernel_size=1, stride=stride, bias=False),\n",
        "                nn.BatchNorm2d(out_channels)\n",
        "            )\n",
        "\n",
        "    def forward(self, x):\n",
        "        identity = self.skip(x) if self.skip else x\n",
        "        out = self.conv1(x)\n",
        "        out = self.bn1(out)\n",
        "        out = self.relu(out)\n",
        "        out = self.conv2(out)\n",
        "        out = self.bn2(out)\n",
        "        out += identity\n",
        "        out = self.relu(out)\n",
        "        return out\n",
        "\n",
        "class ResNet22_4_Modified(nn.Module):\n",
        "    def __init__(self, num_classes=10):\n",
        "        super(ResNet22_4_Modified, self).__init__()\n",
        "        self.init_conv = nn.Conv2d(3, 32, kernel_size=3, stride=1, padding=1, bias=False)\n",
        "        self.init_bn = nn.BatchNorm2d(32)\n",
        "        self.relu = nn.ReLU(inplace=True)\n",
        "        self.layer1 = self._make_layer(32, 64, 3, stride=1)\n",
        "        self.layer2 = self._make_layer(64, 128, 3, stride=2)\n",
        "        self.layer3 = self._make_layer(128, 256, 3, stride=2)\n",
        "        self.avg_pool = nn.AdaptiveAvgPool2d(1)\n",
        "        self.fc = nn.Linear(256, num_classes)\n",
        "\n",
        "    def _make_layer(self, in_channels, out_channels, blocks, stride):\n",
        "        layers = [ResNetBlock(in_channels, out_channels, stride)]\n",
        "        for _ in range(1, blocks):\n",
        "            layers.append(ResNetBlock(out_channels, out_channels))\n",
        "        return nn.Sequential(*layers)\n",
        "\n",
        "    def forward(self, x):\n",
        "        out = self.init_conv(x)\n",
        "        out = self.init_bn(out)\n",
        "        out = self.relu(out)\n",
        "        out = self.layer1(out)\n",
        "        out = self.layer2(out)\n",
        "        out = self.layer3(out)\n",
        "        out = self.avg_pool(out)\n",
        "        out = torch.flatten(out, 1)\n",
        "        out = self.fc(out)\n",
        "        return out\n",
        "\n",
        "# Initialize model\n",
        "model = ResNet22_4_Modified().to(device)\n",
        "summary(model, (3, 32, 32))\n"
      ]
    },
    {
      "cell_type": "code",
      "execution_count": 9,
      "id": "PFIlv0GyfaaZ",
      "metadata": {
        "id": "PFIlv0GyfaaZ"
      },
      "outputs": [],
      "source": []
    },
    {
      "cell_type": "code",
      "execution_count": 10,
      "id": "39Am3d2JfWcY",
      "metadata": {
        "id": "39Am3d2JfWcY"
      },
      "outputs": [],
      "source": [
        "def train_model(model, train_loader, val_loader, epochs=50, patience=10, min_delta=0.001):\n",
        "    criterion = nn.CrossEntropyLoss(label_smoothing=0.1)\n",
        "    optimizer = optim.SGD(model.parameters(), lr=0.1, momentum=0.9, weight_decay=5e-4)\n",
        "    scheduler = CosineAnnealingLR(optimizer, T_max=epochs)\n",
        "\n",
        "    best_val_loss = float('inf')\n",
        "    epochs_no_improve = 0\n",
        "\n",
        "    # Initialize history dictionary\n",
        "    history = {'train_loss': [], 'val_loss': [], 'train_acc': [], 'val_acc': []}\n",
        "\n",
        "    for epoch in range(epochs):\n",
        "        model.train()\n",
        "        train_loss, correct_train, total_train = 0, 0, 0\n",
        "        for images, labels in train_loader:\n",
        "            images, labels = images.to(device), labels.to(device)\n",
        "            optimizer.zero_grad()\n",
        "            outputs = model(images)\n",
        "            loss = criterion(outputs, labels)\n",
        "            loss.backward()\n",
        "            optimizer.step()\n",
        "            train_loss += loss.item()\n",
        "            _, predicted = outputs.max(1)\n",
        "            correct_train += predicted.eq(labels).sum().item()\n",
        "            total_train += labels.size(0)\n",
        "\n",
        "        # Calculate training accuracy\n",
        "        train_accuracy = 100 * correct_train / total_train\n",
        "\n",
        "        # Validation phase\n",
        "        model.eval()\n",
        "        val_loss, correct_val, total_val = 0, 0, 0\n",
        "        with torch.no_grad():\n",
        "            for images, labels in val_loader:\n",
        "                images, labels = images.to(device), labels.to(device)\n",
        "                outputs = model(images)\n",
        "                loss = criterion(outputs, labels)\n",
        "                val_loss += loss.item()\n",
        "                _, predicted = outputs.max(1)\n",
        "                correct_val += predicted.eq(labels).sum().item()\n",
        "                total_val += labels.size(0)\n",
        "\n",
        "        # Calculate validation accuracy\n",
        "        val_accuracy = 100 * correct_val / total_val\n",
        "        val_loss /= len(val_loader)  # Average the validation loss\n",
        "\n",
        "        scheduler.step()\n",
        "\n",
        "        # Append metrics to history\n",
        "        history['train_loss'].append(train_loss / len(train_loader))\n",
        "        history['val_loss'].append(val_loss)\n",
        "        history['train_acc'].append(train_accuracy)\n",
        "        history['val_acc'].append(val_accuracy)\n",
        "\n",
        "        print(f\"Epoch {epoch+1}:\")\n",
        "        print(f\"    Train Loss: {train_loss/len(train_loader):.4f}, Train Accuracy: {train_accuracy:.2f}%\")\n",
        "        print(f\"    Val Loss: {val_loss:.4f}, Val Accuracy: {val_accuracy:.2f}%\")\n",
        "\n",
        "        # Early stopping check\n",
        "        if val_loss < best_val_loss - min_delta:\n",
        "            best_val_loss = val_loss\n",
        "            epochs_no_improve = 0\n",
        "        else:\n",
        "            epochs_no_improve += 1\n",
        "\n",
        "        if epochs_no_improve >= patience:\n",
        "            print(f\"Early stopping at epoch {epoch+1}\")\n",
        "            break\n",
        "\n",
        "    return history"
      ]
    },
    {
      "cell_type": "code",
      "execution_count": 11,
      "id": "Se02wM6FeKJS",
      "metadata": {
        "colab": {
          "base_uri": "https://localhost:8080/"
        },
        "id": "Se02wM6FeKJS",
        "outputId": "2286fa8c-65e0-4279-856e-fb8fabdb7e17"
      },
      "outputs": [
        {
          "name": "stdout",
          "output_type": "stream",
          "text": [
            "Epoch 1:\n",
            "    Train Loss: 2.1651, Train Accuracy: 25.66%\n",
            "    Val Loss: 1.9489, Val Accuracy: 31.15%\n",
            "Epoch 2:\n",
            "    Train Loss: 1.7250, Train Accuracy: 42.08%\n",
            "    Val Loss: 1.6794, Val Accuracy: 45.61%\n",
            "Epoch 3:\n",
            "    Train Loss: 1.5327, Train Accuracy: 52.22%\n",
            "    Val Loss: 1.5210, Val Accuracy: 53.36%\n",
            "Epoch 4:\n",
            "    Train Loss: 1.3847, Train Accuracy: 59.92%\n",
            "    Val Loss: 1.4621, Val Accuracy: 56.88%\n",
            "Epoch 5:\n",
            "    Train Loss: 1.2764, Train Accuracy: 65.23%\n",
            "    Val Loss: 1.4181, Val Accuracy: 57.33%\n",
            "Epoch 6:\n",
            "    Train Loss: 1.2047, Train Accuracy: 68.56%\n",
            "    Val Loss: 1.2970, Val Accuracy: 64.95%\n",
            "Epoch 7:\n",
            "    Train Loss: 1.1366, Train Accuracy: 71.86%\n",
            "    Val Loss: 1.2005, Val Accuracy: 69.32%\n",
            "Epoch 8:\n",
            "    Train Loss: 1.0658, Train Accuracy: 75.16%\n",
            "    Val Loss: 1.1670, Val Accuracy: 69.95%\n",
            "Epoch 9:\n",
            "    Train Loss: 1.0143, Train Accuracy: 77.66%\n",
            "    Val Loss: 1.0885, Val Accuracy: 74.04%\n",
            "Epoch 10:\n",
            "    Train Loss: 0.9791, Train Accuracy: 79.29%\n",
            "    Val Loss: 1.1070, Val Accuracy: 72.91%\n",
            "Epoch 11:\n",
            "    Train Loss: 0.9382, Train Accuracy: 81.07%\n",
            "    Val Loss: 1.0547, Val Accuracy: 75.60%\n",
            "Epoch 12:\n",
            "    Train Loss: 0.9146, Train Accuracy: 82.07%\n",
            "    Val Loss: 1.0301, Val Accuracy: 77.00%\n",
            "Epoch 13:\n",
            "    Train Loss: 0.8900, Train Accuracy: 83.28%\n",
            "    Val Loss: 1.0301, Val Accuracy: 77.20%\n",
            "Epoch 14:\n",
            "    Train Loss: 0.8746, Train Accuracy: 83.89%\n",
            "    Val Loss: 1.0698, Val Accuracy: 75.35%\n",
            "Epoch 15:\n",
            "    Train Loss: 0.8558, Train Accuracy: 84.72%\n",
            "    Val Loss: 0.9283, Val Accuracy: 81.49%\n",
            "Epoch 16:\n",
            "    Train Loss: 0.8457, Train Accuracy: 85.16%\n",
            "    Val Loss: 0.9506, Val Accuracy: 79.96%\n",
            "Epoch 17:\n",
            "    Train Loss: 0.8329, Train Accuracy: 85.64%\n",
            "    Val Loss: 1.0740, Val Accuracy: 75.71%\n",
            "Epoch 18:\n",
            "    Train Loss: 0.8196, Train Accuracy: 86.34%\n",
            "    Val Loss: 1.0626, Val Accuracy: 75.94%\n",
            "Epoch 19:\n",
            "    Train Loss: 0.8087, Train Accuracy: 86.74%\n",
            "    Val Loss: 1.0594, Val Accuracy: 76.21%\n",
            "Epoch 20:\n",
            "    Train Loss: 0.7996, Train Accuracy: 87.19%\n",
            "    Val Loss: 1.1388, Val Accuracy: 72.78%\n",
            "Epoch 21:\n",
            "    Train Loss: 0.7941, Train Accuracy: 87.46%\n",
            "    Val Loss: 0.9344, Val Accuracy: 81.24%\n",
            "Epoch 22:\n",
            "    Train Loss: 0.7846, Train Accuracy: 87.88%\n",
            "    Val Loss: 0.9540, Val Accuracy: 80.48%\n",
            "Epoch 23:\n",
            "    Train Loss: 0.7793, Train Accuracy: 88.13%\n",
            "    Val Loss: 0.9000, Val Accuracy: 82.42%\n",
            "Epoch 24:\n",
            "    Train Loss: 0.7668, Train Accuracy: 88.74%\n",
            "    Val Loss: 0.9271, Val Accuracy: 81.36%\n",
            "Epoch 25:\n",
            "    Train Loss: 0.7609, Train Accuracy: 89.06%\n",
            "    Val Loss: 0.8797, Val Accuracy: 83.65%\n",
            "Epoch 26:\n",
            "    Train Loss: 0.7542, Train Accuracy: 89.37%\n",
            "    Val Loss: 0.9088, Val Accuracy: 82.85%\n",
            "Epoch 27:\n",
            "    Train Loss: 0.7534, Train Accuracy: 89.18%\n",
            "    Val Loss: 0.9308, Val Accuracy: 81.49%\n",
            "Epoch 28:\n",
            "    Train Loss: 0.7462, Train Accuracy: 89.66%\n",
            "    Val Loss: 0.8606, Val Accuracy: 84.62%\n",
            "Epoch 29:\n",
            "    Train Loss: 0.7394, Train Accuracy: 89.90%\n",
            "    Val Loss: 0.8805, Val Accuracy: 83.61%\n",
            "Epoch 30:\n",
            "    Train Loss: 0.7367, Train Accuracy: 90.11%\n",
            "    Val Loss: 0.8562, Val Accuracy: 84.24%\n",
            "Epoch 31:\n",
            "    Train Loss: 0.7323, Train Accuracy: 90.24%\n",
            "    Val Loss: 0.8574, Val Accuracy: 84.58%\n",
            "Epoch 32:\n",
            "    Train Loss: 0.7287, Train Accuracy: 90.29%\n",
            "    Val Loss: 0.8621, Val Accuracy: 84.27%\n",
            "Epoch 33:\n",
            "    Train Loss: 0.7151, Train Accuracy: 90.99%\n",
            "    Val Loss: 0.8460, Val Accuracy: 85.29%\n",
            "Epoch 34:\n",
            "    Train Loss: 0.7153, Train Accuracy: 91.02%\n",
            "    Val Loss: 0.8349, Val Accuracy: 85.69%\n",
            "Epoch 35:\n",
            "    Train Loss: 0.7116, Train Accuracy: 91.11%\n",
            "    Val Loss: 0.8749, Val Accuracy: 84.29%\n",
            "Epoch 36:\n",
            "    Train Loss: 0.7062, Train Accuracy: 91.37%\n",
            "    Val Loss: 0.8429, Val Accuracy: 85.65%\n",
            "Epoch 37:\n",
            "    Train Loss: 0.7037, Train Accuracy: 91.51%\n",
            "    Val Loss: 0.8201, Val Accuracy: 86.34%\n",
            "Epoch 38:\n",
            "    Train Loss: 0.6952, Train Accuracy: 91.86%\n",
            "    Val Loss: 0.8565, Val Accuracy: 84.48%\n",
            "Epoch 39:\n",
            "    Train Loss: 0.6956, Train Accuracy: 91.84%\n",
            "    Val Loss: 0.8723, Val Accuracy: 84.27%\n",
            "Epoch 40:\n",
            "    Train Loss: 0.6900, Train Accuracy: 92.15%\n",
            "    Val Loss: 0.9425, Val Accuracy: 81.34%\n",
            "Epoch 41:\n",
            "    Train Loss: 0.6844, Train Accuracy: 92.28%\n",
            "    Val Loss: 0.8023, Val Accuracy: 86.76%\n",
            "Epoch 42:\n",
            "    Train Loss: 0.6772, Train Accuracy: 92.75%\n",
            "    Val Loss: 0.7976, Val Accuracy: 87.38%\n",
            "Epoch 43:\n",
            "    Train Loss: 0.6734, Train Accuracy: 92.95%\n",
            "    Val Loss: 0.8373, Val Accuracy: 85.46%\n",
            "Epoch 44:\n",
            "    Train Loss: 0.6684, Train Accuracy: 93.09%\n",
            "    Val Loss: 0.8480, Val Accuracy: 85.46%\n",
            "Epoch 45:\n",
            "    Train Loss: 0.6654, Train Accuracy: 93.12%\n",
            "    Val Loss: 0.8718, Val Accuracy: 84.62%\n",
            "Epoch 46:\n",
            "    Train Loss: 0.6640, Train Accuracy: 93.21%\n",
            "    Val Loss: 0.7939, Val Accuracy: 87.68%\n",
            "Epoch 47:\n",
            "    Train Loss: 0.6598, Train Accuracy: 93.51%\n",
            "    Val Loss: 0.7993, Val Accuracy: 87.16%\n",
            "Epoch 48:\n",
            "    Train Loss: 0.6555, Train Accuracy: 93.57%\n",
            "    Val Loss: 0.8431, Val Accuracy: 86.05%\n",
            "Epoch 49:\n",
            "    Train Loss: 0.6507, Train Accuracy: 93.93%\n",
            "    Val Loss: 0.8240, Val Accuracy: 86.85%\n",
            "Epoch 50:\n",
            "    Train Loss: 0.6462, Train Accuracy: 93.95%\n",
            "    Val Loss: 0.8434, Val Accuracy: 85.25%\n",
            "Epoch 51:\n",
            "    Train Loss: 0.6437, Train Accuracy: 94.08%\n",
            "    Val Loss: 0.8285, Val Accuracy: 86.20%\n",
            "Epoch 52:\n",
            "    Train Loss: 0.6384, Train Accuracy: 94.36%\n",
            "    Val Loss: 0.7619, Val Accuracy: 89.06%\n",
            "Epoch 53:\n",
            "    Train Loss: 0.6295, Train Accuracy: 94.81%\n",
            "    Val Loss: 0.8306, Val Accuracy: 85.96%\n",
            "Epoch 54:\n",
            "    Train Loss: 0.6296, Train Accuracy: 94.67%\n",
            "    Val Loss: 0.8097, Val Accuracy: 86.99%\n",
            "Epoch 55:\n",
            "    Train Loss: 0.6230, Train Accuracy: 94.95%\n",
            "    Val Loss: 0.7829, Val Accuracy: 88.02%\n",
            "Epoch 56:\n",
            "    Train Loss: 0.6220, Train Accuracy: 95.04%\n",
            "    Val Loss: 0.7827, Val Accuracy: 88.19%\n",
            "Epoch 57:\n",
            "    Train Loss: 0.6155, Train Accuracy: 95.39%\n",
            "    Val Loss: 0.8167, Val Accuracy: 86.97%\n",
            "Epoch 58:\n",
            "    Train Loss: 0.6143, Train Accuracy: 95.39%\n",
            "    Val Loss: 0.7932, Val Accuracy: 87.94%\n",
            "Epoch 59:\n",
            "    Train Loss: 0.6075, Train Accuracy: 95.71%\n",
            "    Val Loss: 0.7522, Val Accuracy: 89.09%\n",
            "Epoch 60:\n",
            "    Train Loss: 0.6030, Train Accuracy: 95.90%\n",
            "    Val Loss: 0.7674, Val Accuracy: 89.01%\n",
            "Epoch 61:\n",
            "    Train Loss: 0.5942, Train Accuracy: 96.21%\n",
            "    Val Loss: 0.7363, Val Accuracy: 89.81%\n",
            "Epoch 62:\n",
            "    Train Loss: 0.5923, Train Accuracy: 96.42%\n",
            "    Val Loss: 0.7818, Val Accuracy: 88.61%\n",
            "Epoch 63:\n",
            "    Train Loss: 0.5913, Train Accuracy: 96.43%\n",
            "    Val Loss: 0.7406, Val Accuracy: 90.02%\n",
            "Epoch 64:\n",
            "    Train Loss: 0.5869, Train Accuracy: 96.54%\n",
            "    Val Loss: 0.7370, Val Accuracy: 90.22%\n",
            "Epoch 65:\n",
            "    Train Loss: 0.5836, Train Accuracy: 96.77%\n",
            "    Val Loss: 0.7318, Val Accuracy: 90.39%\n",
            "Epoch 66:\n",
            "    Train Loss: 0.5777, Train Accuracy: 97.06%\n",
            "    Val Loss: 0.7369, Val Accuracy: 90.22%\n",
            "Epoch 67:\n",
            "    Train Loss: 0.5699, Train Accuracy: 97.33%\n",
            "    Val Loss: 0.7459, Val Accuracy: 89.76%\n",
            "Epoch 68:\n",
            "    Train Loss: 0.5666, Train Accuracy: 97.48%\n",
            "    Val Loss: 0.7151, Val Accuracy: 91.15%\n",
            "Epoch 69:\n",
            "    Train Loss: 0.5617, Train Accuracy: 97.71%\n",
            "    Val Loss: 0.7275, Val Accuracy: 90.74%\n",
            "Epoch 70:\n",
            "    Train Loss: 0.5580, Train Accuracy: 97.83%\n",
            "    Val Loss: 0.7256, Val Accuracy: 90.77%\n",
            "Epoch 71:\n",
            "    Train Loss: 0.5570, Train Accuracy: 97.84%\n",
            "    Val Loss: 0.7117, Val Accuracy: 91.52%\n",
            "Epoch 72:\n",
            "    Train Loss: 0.5481, Train Accuracy: 98.31%\n",
            "    Val Loss: 0.7099, Val Accuracy: 91.64%\n",
            "Epoch 73:\n",
            "    Train Loss: 0.5458, Train Accuracy: 98.38%\n",
            "    Val Loss: 0.7039, Val Accuracy: 91.55%\n",
            "Epoch 74:\n",
            "    Train Loss: 0.5434, Train Accuracy: 98.51%\n",
            "    Val Loss: 0.6967, Val Accuracy: 91.84%\n",
            "Epoch 75:\n",
            "    Train Loss: 0.5386, Train Accuracy: 98.70%\n",
            "    Val Loss: 0.7074, Val Accuracy: 91.84%\n",
            "Epoch 76:\n",
            "    Train Loss: 0.5340, Train Accuracy: 98.88%\n",
            "    Val Loss: 0.6915, Val Accuracy: 92.00%\n",
            "Epoch 77:\n",
            "    Train Loss: 0.5317, Train Accuracy: 99.00%\n",
            "    Val Loss: 0.6904, Val Accuracy: 92.40%\n",
            "Epoch 78:\n",
            "    Train Loss: 0.5299, Train Accuracy: 99.03%\n",
            "    Val Loss: 0.6914, Val Accuracy: 92.45%\n",
            "Epoch 79:\n",
            "    Train Loss: 0.5279, Train Accuracy: 99.05%\n",
            "    Val Loss: 0.6927, Val Accuracy: 92.25%\n",
            "Epoch 80:\n",
            "    Train Loss: 0.5245, Train Accuracy: 99.24%\n",
            "    Val Loss: 0.6811, Val Accuracy: 92.57%\n",
            "Epoch 81:\n",
            "    Train Loss: 0.5213, Train Accuracy: 99.40%\n",
            "    Val Loss: 0.6873, Val Accuracy: 92.26%\n",
            "Epoch 82:\n",
            "    Train Loss: 0.5200, Train Accuracy: 99.39%\n",
            "    Val Loss: 0.6654, Val Accuracy: 93.31%\n",
            "Epoch 83:\n",
            "    Train Loss: 0.5172, Train Accuracy: 99.57%\n",
            "    Val Loss: 0.6661, Val Accuracy: 93.32%\n",
            "Epoch 84:\n",
            "    Train Loss: 0.5165, Train Accuracy: 99.55%\n",
            "    Val Loss: 0.6551, Val Accuracy: 93.64%\n",
            "Epoch 85:\n",
            "    Train Loss: 0.5150, Train Accuracy: 99.60%\n",
            "    Val Loss: 0.6639, Val Accuracy: 93.50%\n",
            "Epoch 86:\n",
            "    Train Loss: 0.5127, Train Accuracy: 99.70%\n",
            "    Val Loss: 0.6676, Val Accuracy: 93.53%\n",
            "Epoch 87:\n",
            "    Train Loss: 0.5128, Train Accuracy: 99.68%\n",
            "    Val Loss: 0.6608, Val Accuracy: 93.35%\n",
            "Epoch 88:\n",
            "    Train Loss: 0.5121, Train Accuracy: 99.71%\n",
            "    Val Loss: 0.6589, Val Accuracy: 93.66%\n",
            "Epoch 89:\n",
            "    Train Loss: 0.5112, Train Accuracy: 99.73%\n",
            "    Val Loss: 0.6585, Val Accuracy: 93.73%\n",
            "Epoch 90:\n",
            "    Train Loss: 0.5104, Train Accuracy: 99.79%\n",
            "    Val Loss: 0.6487, Val Accuracy: 93.88%\n",
            "Epoch 91:\n",
            "    Train Loss: 0.5097, Train Accuracy: 99.81%\n",
            "    Val Loss: 0.6595, Val Accuracy: 93.62%\n",
            "Epoch 92:\n",
            "    Train Loss: 0.5099, Train Accuracy: 99.80%\n",
            "    Val Loss: 0.6502, Val Accuracy: 93.90%\n",
            "Epoch 93:\n",
            "    Train Loss: 0.5095, Train Accuracy: 99.79%\n",
            "    Val Loss: 0.6551, Val Accuracy: 93.68%\n",
            "Epoch 94:\n",
            "    Train Loss: 0.5095, Train Accuracy: 99.80%\n",
            "    Val Loss: 0.6559, Val Accuracy: 93.54%\n",
            "Epoch 95:\n",
            "    Train Loss: 0.5088, Train Accuracy: 99.83%\n",
            "    Val Loss: 0.6529, Val Accuracy: 93.87%\n",
            "Epoch 96:\n",
            "    Train Loss: 0.5083, Train Accuracy: 99.86%\n",
            "    Val Loss: 0.6531, Val Accuracy: 93.90%\n",
            "Epoch 97:\n",
            "    Train Loss: 0.5081, Train Accuracy: 99.84%\n",
            "    Val Loss: 0.6616, Val Accuracy: 93.62%\n",
            "Epoch 98:\n",
            "    Train Loss: 0.5084, Train Accuracy: 99.84%\n",
            "    Val Loss: 0.6530, Val Accuracy: 93.73%\n",
            "Epoch 99:\n",
            "    Train Loss: 0.5085, Train Accuracy: 99.84%\n",
            "    Val Loss: 0.6441, Val Accuracy: 94.10%\n",
            "Epoch 100:\n",
            "    Train Loss: 0.5087, Train Accuracy: 99.81%\n",
            "    Val Loss: 0.6511, Val Accuracy: 93.93%\n"
          ]
        }
      ],
      "source": [
        "training_history = train_model(model, train_loader, val_loader, epochs=100, patience=10, min_delta=0.001)"
      ]
    },
    {
      "cell_type": "code",
      "execution_count": null,
      "id": "7U09rZtviwEI",
      "metadata": {
        "colab": {
          "base_uri": "https://localhost:8080/",
          "height": 467
        },
        "id": "7U09rZtviwEI",
        "outputId": "e3280546-719f-4d0d-f444-04006475894c"
      },
      "outputs": [
        {
          "ename": "NameError",
          "evalue": "name 'training_history' is not defined",
          "output_type": "error",
          "traceback": [
            "\u001b[0;31m---------------------------------------------------------------------------\u001b[0m",
            "\u001b[0;31mNameError\u001b[0m                                 Traceback (most recent call last)",
            "Cell \u001b[0;32mIn[1], line 52\u001b[0m\n\u001b[1;32m     49\u001b[0m     plt\u001b[38;5;241m.\u001b[39msavefig(\u001b[38;5;124m\"\u001b[39m\u001b[38;5;124mtraining_validation_accuracy.png\u001b[39m\u001b[38;5;124m\"\u001b[39m)  \u001b[38;5;66;03m# Save as image\u001b[39;00m\n\u001b[1;32m     50\u001b[0m     plt\u001b[38;5;241m.\u001b[39mclose()\n\u001b[0;32m---> 52\u001b[0m plot_training_history(\u001b[43mtraining_history\u001b[49m)\n",
            "\u001b[0;31mNameError\u001b[0m: name 'training_history' is not defined"
          ]
        }
      ],
      "source": [
        "\n",
        "# Function to plot training & validation loss/accuracy\n",
        "def plot_training_history(history):\n",
        "    epochs = range(1, len(history['train_loss']) + 1)\n",
        "\n",
        "    plt.figure(figsize=(12, 5))\n",
        "    plt.subplot(1, 2, 1)\n",
        "    plt.plot(epochs, history['train_loss'], label='Train Loss')\n",
        "    plt.plot(epochs, history['val_loss'], label='Validation Loss')\n",
        "    plt.xlabel('Epochs')\n",
        "    plt.ylabel('Loss')\n",
        "    plt.title('Training & Validation Loss')\n",
        "    plt.legend()\n",
        "\n",
        "    plt.subplot(1, 2, 2)\n",
        "    plt.plot(epochs, history['train_acc'], label='Train Accuracy')\n",
        "    plt.plot(epochs, history['val_acc'], label='Validation Accuracy')\n",
        "    plt.xlabel('Epochs')\n",
        "    plt.ylabel('Accuracy')\n",
        "    plt.title('Training & Validation Accuracy')\n",
        "    plt.legend()\n",
        "\n",
        "    plt.show()\n",
        "\n",
        "plot_training_history(training_history)"
      ]
    },
    {
      "cell_type": "code",
      "execution_count": null,
      "id": "4cdd1f31",
      "metadata": {},
      "outputs": [],
      "source": []
    },
    {
      "cell_type": "code",
      "execution_count": 13,
      "id": "qt-tmUohi8ij",
      "metadata": {
        "colab": {
          "base_uri": "https://localhost:8080/",
          "height": 783
        },
        "id": "qt-tmUohi8ij",
        "outputId": "913782b2-63ff-402e-bf06-2ea358778acc"
      },
      "outputs": [
        {
          "data": {
            "image/png": "[encoded data removed]",
            "text/plain": [
              "<Figure size 1000x800 with 2 Axes>"
            ]
          },
          "metadata": {},
          "output_type": "display_data"
        }
      ],
      "source": [
        "from sklearn.metrics import confusion_matrix\n",
        "\n",
        "# Function to plot confusion matrix\n",
        "def plot_confusion_matrix(model, dataloader, label_names):\n",
        "    model.eval()\n",
        "    all_preds = []\n",
        "    all_labels = []\n",
        "    with torch.no_grad():\n",
        "        for images, labels in dataloader:\n",
        "            images, labels = images.to(device), labels.to(device)\n",
        "            outputs = model(images)\n",
        "            _, predicted = torch.max(outputs, 1)\n",
        "            all_preds.extend(predicted.cpu().numpy())\n",
        "            all_labels.extend(labels.cpu().numpy())\n",
        "\n",
        "    cm = confusion_matrix(all_labels, all_preds)\n",
        "    plt.figure(figsize=(10, 8))\n",
        "    sns.heatmap(cm, annot=True, fmt='d', cmap='Blues', xticklabels=label_names, yticklabels=label_names)\n",
        "    plt.xlabel('Predicted Label')\n",
        "    plt.ylabel('True Label')\n",
        "    plt.title('Confusion Matrix')\n",
        "    plt.show()\n",
        "\n",
        "plot_confusion_matrix(model, val_loader, label_names)"
      ]
    },
    {
      "cell_type": "code",
      "execution_count": 14,
      "id": "pF-a4uCai9X-",
      "metadata": {
        "colab": {
          "base_uri": "https://localhost:8080/",
          "height": 347
        },
        "id": "pF-a4uCai9X-",
        "outputId": "e63be3d1-61fc-4ec9-c807-093a30cdb323"
      },
      "outputs": [
        {
          "name": "stderr",
          "output_type": "stream",
          "text": [
            "WARNING:matplotlib.image:Clipping input data to the valid range for imshow with RGB data ([0..1] for floats or [0..255] for integers). Got range [-1.9894737..2.1308641].\n",
            "WARNING:matplotlib.image:Clipping input data to the valid range for imshow with RGB data ([0..1] for floats or [0..255] for integers). Got range [-1.9894737..2.1308641].\n",
            "WARNING:matplotlib.image:Clipping input data to the valid range for imshow with RGB data ([0..1] for floats or [0..255] for integers). Got range [-1.9894737..1.9797254].\n",
            "WARNING:matplotlib.image:Clipping input data to the valid range for imshow with RGB data ([0..1] for floats or [0..255] for integers). Got range [-1.9894737..1.4445571].\n",
            "WARNING:matplotlib.image:Clipping input data to the valid range for imshow with RGB data ([0..1] for floats or [0..255] for integers). Got range [-1.9894737..1.773327].\n",
            "WARNING:matplotlib.image:Clipping input data to the valid range for imshow with RGB data ([0..1] for floats or [0..255] for integers). Got range [-1.9894737..1.6780663].\n",
            "WARNING:matplotlib.image:Clipping input data to the valid range for imshow with RGB data ([0..1] for floats or [0..255] for integers). Got range [-1.9894737..0.40408307].\n",
            "WARNING:matplotlib.image:Clipping input data to the valid range for imshow with RGB data ([0..1] for floats or [0..255] for integers). Got range [-1.9894737..1.6621895].\n",
            "WARNING:matplotlib.image:Clipping input data to the valid range for imshow with RGB data ([0..1] for floats or [0..255] for integers). Got range [-1.9894737..2.1308641].\n",
            "WARNING:matplotlib.image:Clipping input data to the valid range for imshow with RGB data ([0..1] for floats or [0..255] for integers). Got range [-1.9894737..2.0605888].\n"
          ]
        },
        {
          "data": {
            "image/png": "[encoded data removed]",
            "text/plain": [
              "<Figure size 1500x500 with 10 Axes>"
            ]
          },
          "metadata": {},
          "output_type": "display_data"
        }
      ],
      "source": [
        "# Function to show misclassified images\n",
        "def plot_misclassified_images(model, dataset, num_images=10):\n",
        "    model.eval()\n",
        "    misclassified = []\n",
        "    with torch.no_grad():\n",
        "        for i in range(len(dataset)):\n",
        "            img, label = dataset[i]\n",
        "            img_tensor = img.unsqueeze(0).to(device)\n",
        "            output = model(img_tensor)\n",
        "            _, predicted = torch.max(output, 1)\n",
        "            if predicted.item() != label:\n",
        "                misclassified.append((img, label, predicted.item()))\n",
        "            if len(misclassified) == num_images:\n",
        "                break\n",
        "\n",
        "    fig, axes = plt.subplots(1, num_images, figsize=(15, 5))\n",
        "    for i, (img, true_label, pred_label) in enumerate(misclassified):\n",
        "        img = img.permute(1, 2, 0).numpy()\n",
        "        axes[i].imshow(img)\n",
        "        axes[i].set_title(f'True: {label_names[true_label]}\\nPred: {label_names[pred_label]}')\n",
        "        axes[i].axis('off')\n",
        "    plt.show()\n",
        "\n",
        "plot_misclassified_images(model, val_dataset, num_images=10)"
      ]
    },
    {
      "cell_type": "code",
      "execution_count": 15,
      "id": "k01vhfKgnGZe",
      "metadata": {
        "id": "k01vhfKgnGZe"
      },
      "outputs": [],
      "source": [
        "test_transform = transforms.Compose([\n",
        "    transforms.ToPILImage(),  # Convert numpy array to PIL Image\n",
        "    transforms.ToTensor(),\n",
        "    transforms.Normalize((0.4914, 0.4822, 0.4465), (0.247, 0.243, 0.261))\n",
        "])\n",
        "\n",
        "# Load test dataset\n",
        "cifar_test_path = '/root/.cache/kagglehub/competitions/deep-learning-spring-2025-project-1/cifar_test_nolabel.pkl'\n",
        "test_batch = load_cifar_batch(cifar_test_path)\n",
        "test_images = test_batch[b'data'].astype(np.float32) / 255.0\n",
        "\n",
        "# Convert test dataset to Tensor\n",
        "test_dataset = [(test_transform(img),) for img in test_images]\n",
        "test_loader = DataLoader(test_dataset, batch_size=256, shuffle=False, num_workers=4)"
      ]
    },
    {
      "cell_type": "code",
      "execution_count": 16,
      "id": "X0ygeTtHmsJX",
      "metadata": {
        "colab": {
          "base_uri": "https://localhost:8080/"
        },
        "id": "X0ygeTtHmsJX",
        "outputId": "6958dbbe-c004-428d-b0f1-c6fa02d01ccf"
      },
      "outputs": [
        {
          "name": "stdout",
          "output_type": "stream",
          "text": [
            "Submission file saved.\n"
          ]
        }
      ],
      "source": [
        "import pandas as pd\n",
        "\n",
        "model.eval()\n",
        "predictions7 = []\n",
        "with torch.no_grad():\n",
        "    for batch in test_loader:\n",
        "        images = batch[0].to(device)  # Get images tensor from tuple and move to device\n",
        "        outputs = model(images)\n",
        "        _, predicted = torch.max(outputs, 1)\n",
        "        predictions7.extend(predicted.cpu().numpy())\n",
        "\n",
        "# Generate submission file\n",
        "submission = pd.DataFrame({'ID': np.arange(len(predictions7)), 'Labels': predictions7})\n",
        "submission.to_csv('submission.csv', index=False)\n",
        "print(\"Submission file saved.\")"
      ]
    },
    {
      "cell_type": "code",
      "execution_count": 18,
      "id": "Vu-nNuFjmyFW",
      "metadata": {
        "colab": {
          "base_uri": "https://localhost:8080/",
          "height": 17
        },
        "id": "Vu-nNuFjmyFW",
        "outputId": "dd63562d-fd6a-4963-b293-a69e2fb50df4"
      },
      "outputs": [
        {
          "data": {
            "application/javascript": "\n    async function download(id, filename, size) {\n      if (!google.colab.kernel.accessAllowed) {\n        return;\n      }\n      const div = document.createElement('div');\n      const label = document.createElement('label');\n      label.textContent = `Downloading \"${filename}\": `;\n      div.appendChild(label);\n      const progress = document.createElement('progress');\n      progress.max = size;\n      div.appendChild(progress);\n      document.body.appendChild(div);\n\n      const buffers = [];\n      let downloaded = 0;\n\n      const channel = await google.colab.kernel.comms.open(id);\n      // Send a message to notify the kernel that we're ready.\n      channel.send({})\n\n      for await (const message of channel.messages) {\n        // Send a message to notify the kernel that we're ready.\n        channel.send({})\n        if (message.buffers) {\n          for (const buffer of message.buffers) {\n            buffers.push(buffer);\n            downloaded += buffer.byteLength;\n            progress.value = downloaded;\n          }\n        }\n      }\n      const blob = new Blob(buffers, {type: 'application/binary'});\n      const a = document.createElement('a');\n      a.href = window.URL.createObjectURL(blob);\n      a.download = filename;\n      div.appendChild(a);\n      a.click();\n      div.remove();\n    }\n  ",
            "text/plain": [
              "<IPython.core.display.Javascript object>"
            ]
          },
          "metadata": {},
          "output_type": "display_data"
        },
        {
          "data": {
            "application/javascript": "download(\"download_e80c5d51-1424-449d-a785-8b756a18b747\", \"submission.csv\", 68900)",
            "text/plain": [
              "<IPython.core.display.Javascript object>"
            ]
          },
          "metadata": {},
          "output_type": "display_data"
        },
        {
          "data": {
            "application/javascript": "\n    async function download(id, filename, size) {\n      if (!google.colab.kernel.accessAllowed) {\n        return;\n      }\n      const div = document.createElement('div');\n      const label = document.createElement('label');\n      label.textContent = `Downloading \"${filename}\": `;\n      div.appendChild(label);\n      const progress = document.createElement('progress');\n      progress.max = size;\n      div.appendChild(progress);\n      document.body.appendChild(div);\n\n      const buffers = [];\n      let downloaded = 0;\n\n      const channel = await google.colab.kernel.comms.open(id);\n      // Send a message to notify the kernel that we're ready.\n      channel.send({})\n\n      for await (const message of channel.messages) {\n        // Send a message to notify the kernel that we're ready.\n        channel.send({})\n        if (message.buffers) {\n          for (const buffer of message.buffers) {\n            buffers.push(buffer);\n            downloaded += buffer.byteLength;\n            progress.value = downloaded;\n          }\n        }\n      }\n      const blob = new Blob(buffers, {type: 'application/binary'});\n      const a = document.createElement('a');\n      a.href = window.URL.createObjectURL(blob);\n      a.download = filename;\n      div.appendChild(a);\n      a.click();\n      div.remove();\n    }\n  ",
            "text/plain": [
              "<IPython.core.display.Javascript object>"
            ]
          },
          "metadata": {},
          "output_type": "display_data"
        },
        {
          "data": {
            "application/javascript": "download(\"download_bd6a9a96-1112-41a0-9b78-688e4c10da61\", \"model_weights.pth\", 17312738)",
            "text/plain": [
              "<IPython.core.display.Javascript object>"
            ]
          },
          "metadata": {},
          "output_type": "display_data"
        }
      ],
      "source": [
        "from google.colab import files\n",
        "files.download('submission.csv')\n",
        "torch.save(model.state_dict(), \"model_weights.pth\")\n",
        "files.download('model_weights.pth')"
      ]
    },
    {
      "cell_type": "code",
      "execution_count": 19,
      "id": "aGehNfjGmrEE",
      "metadata": {
        "colab": {
          "base_uri": "https://localhost:8080/",
          "height": 725
        },
        "id": "aGehNfjGmrEE",
        "outputId": "e5c291a4-77e0-4c8b-e615-b9c9e38cc3bf"
      },
      "outputs": [
        {
          "name": "stderr",
          "output_type": "stream",
          "text": [
            "<ipython-input-19-d6cd46d3d7c1>:2: FutureWarning: \n",
            "\n",
            "Passing `palette` without assigning `hue` is deprecated and will be removed in v0.14.0. Assign the `x` variable to `hue` and set `legend=False` for the same effect.\n",
            "\n",
            "  sns.countplot(x=predictions7, palette=\"viridis\")\n"
          ]
        },
        {
          "data": {
            "image/png": "[encoded data removed]",
            "text/plain": [
              "<Figure size 800x600 with 1 Axes>"
            ]
          },
          "metadata": {},
          "output_type": "display_data"
        }
      ],
      "source": [
        "plt.figure(figsize=(8, 6))\n",
        "sns.countplot(x=predictions7, palette=\"viridis\")\n",
        "plt.xticks(ticks=np.arange(len(label_names)), labels=label_names, rotation=45)\n",
        "plt.xlabel('Predicted Classes')\n",
        "plt.ylabel('Count')\n",
        "plt.title('Prediction Class Distribution')\n",
        "plt.show()"
      ]
    },
    {
      "cell_type": "code",
      "execution_count": null,
      "id": "2nC1O4Mioy3W",
      "metadata": {
        "id": "2nC1O4Mioy3W"
      },
      "outputs": [],
      "source": []
    }
  ],
  "metadata": {
    "accelerator": "GPU",
    "colab": {
      "gpuType": "A100",
      "provenance": []
    },
    "kernelspec": {
      "display_name": "Python (jupyter-env)",
      "language": "python",
      "name": "jupyter-env"
    },
    "language_info": {
      "codemirror_mode": {
        "name": "ipython",
        "version": 3
      },
      "file_extension": ".py",
      "mimetype": "text/x-python",
      "name": "python",
      "nbconvert_exporter": "python",
      "pygments_lexer": "ipython3",
      "version": "3.10.16"
    },
    "widgets": {
      "application/vnd.jupyter.widget-state+json": {
        "09417ecb6ba849c9ad661f337d9b64bd": {
          "model_module": "@jupyter-widgets/controls",
          "model_module_version": "1.5.0",
          "model_name": "DescriptionStyleModel",
          "state": {
            "_model_module": "@jupyter-widgets/controls",
            "_model_module_version": "1.5.0",
            "_model_name": "DescriptionStyleModel",
            "_view_count": null,
            "_view_module": "@jupyter-widgets/base",
            "_view_module_version": "1.2.0",
            "_view_name": "StyleView",
            "description_width": ""
          }
        },
        "124b1255a28f4eafb6fadfd4f4eedb7e": {
          "model_module": "@jupyter-widgets/controls",
          "model_module_version": "1.5.0",
          "model_name": "HTMLModel",
          "state": {
            "_dom_classes": [],
            "_model_module": "@jupyter-widgets/controls",
            "_model_module_version": "1.5.0",
            "_model_name": "HTMLModel",
            "_view_count": null,
            "_view_module": "@jupyter-widgets/controls",
            "_view_module_version": "1.5.0",
            "_view_name": "HTMLView",
            "description": "",
            "description_tooltip": null,
            "layout": "IPY_MODEL_41817eaa54d64f9288a036a01550bede",
            "placeholder": "​",
            "style": "IPY_MODEL_8ed51858f1c04d7d8ee12e0c159d419d",
            "value": "<center> <img\nsrc=https://www.kaggle.com/static/images/site-logo.png\nalt='Kaggle'> <br> Create an API token from <a\nhref=\"https://www.kaggle.com/settings/account\" target=\"_blank\">your Kaggle\nsettings page</a> and paste it below along with your Kaggle username. <br> </center>"
          }
        },
        "1afad6b1784e4cc5a269c5682be10a4d": {
          "model_module": "@jupyter-widgets/controls",
          "model_module_version": "1.5.0",
          "model_name": "ButtonModel",
          "state": {
            "_dom_classes": [],
            "_model_module": "@jupyter-widgets/controls",
            "_model_module_version": "1.5.0",
            "_model_name": "ButtonModel",
            "_view_count": null,
            "_view_module": "@jupyter-widgets/controls",
            "_view_module_version": "1.5.0",
            "_view_name": "ButtonView",
            "button_style": "",
            "description": "Login",
            "disabled": false,
            "icon": "",
            "layout": "IPY_MODEL_4de7709584144cd3b7861f75b9f33604",
            "style": "IPY_MODEL_a299e9c9d7b64b4680a40bee3fbf6d66",
            "tooltip": ""
          }
        },
        "1dac5112cf2345508f0748166e9f5128": {
          "model_module": "@jupyter-widgets/controls",
          "model_module_version": "1.5.0",
          "model_name": "VBoxModel",
          "state": {
            "_dom_classes": [],
            "_model_module": "@jupyter-widgets/controls",
            "_model_module_version": "1.5.0",
            "_model_name": "VBoxModel",
            "_view_count": null,
            "_view_module": "@jupyter-widgets/controls",
            "_view_module_version": "1.5.0",
            "_view_name": "VBoxView",
            "box_style": "",
            "children": [
              "IPY_MODEL_9e899aaa0c6e4ab7ad0f4113de23d759"
            ],
            "layout": "IPY_MODEL_1e48790c84ac44e5b91ac15bd7dfa8f4"
          }
        },
        "1e48790c84ac44e5b91ac15bd7dfa8f4": {
          "model_module": "@jupyter-widgets/base",
          "model_module_version": "1.2.0",
          "model_name": "LayoutModel",
          "state": {
            "_model_module": "@jupyter-widgets/base",
            "_model_module_version": "1.2.0",
            "_model_name": "LayoutModel",
            "_view_count": null,
            "_view_module": "@jupyter-widgets/base",
            "_view_module_version": "1.2.0",
            "_view_name": "LayoutView",
            "align_content": null,
            "align_items": "center",
            "align_self": null,
            "border": null,
            "bottom": null,
            "display": "flex",
            "flex": null,
            "flex_flow": "column",
            "grid_area": null,
            "grid_auto_columns": null,
            "grid_auto_flow": null,
            "grid_auto_rows": null,
            "grid_column": null,
            "grid_gap": null,
            "grid_row": null,
            "grid_template_areas": null,
            "grid_template_columns": null,
            "grid_template_rows": null,
            "height": null,
            "justify_content": null,
            "justify_items": null,
            "left": null,
            "margin": null,
            "max_height": null,
            "max_width": null,
            "min_height": null,
            "min_width": null,
            "object_fit": null,
            "object_position": null,
            "order": null,
            "overflow": null,
            "overflow_x": null,
            "overflow_y": null,
            "padding": null,
            "right": null,
            "top": null,
            "visibility": null,
            "width": "50%"
          }
        },
        "230a0433841742bdb95f1797814d3eba": {
          "model_module": "@jupyter-widgets/controls",
          "model_module_version": "1.5.0",
          "model_name": "TextModel",
          "state": {
            "_dom_classes": [],
            "_model_module": "@jupyter-widgets/controls",
            "_model_module_version": "1.5.0",
            "_model_name": "TextModel",
            "_view_count": null,
            "_view_module": "@jupyter-widgets/controls",
            "_view_module_version": "1.5.0",
            "_view_name": "TextView",
            "continuous_update": true,
            "description": "Username:",
            "description_tooltip": null,
            "disabled": false,
            "layout": "IPY_MODEL_3c097d82221d41278ae540e24e95c854",
            "placeholder": "​",
            "style": "IPY_MODEL_febc58c1728f415aaac5bd81f0bb1c1b",
            "value": "pavankishore21"
          }
        },
        "2771d0b36a634a878cad697794dde1c1": {
          "model_module": "@jupyter-widgets/controls",
          "model_module_version": "1.5.0",
          "model_name": "DescriptionStyleModel",
          "state": {
            "_model_module": "@jupyter-widgets/controls",
            "_model_module_version": "1.5.0",
            "_model_name": "DescriptionStyleModel",
            "_view_count": null,
            "_view_module": "@jupyter-widgets/base",
            "_view_module_version": "1.2.0",
            "_view_name": "StyleView",
            "description_width": ""
          }
        },
        "2b0ffe04e3e74b748a98fb774e5af0f6": {
          "model_module": "@jupyter-widgets/controls",
          "model_module_version": "1.5.0",
          "model_name": "DescriptionStyleModel",
          "state": {
            "_model_module": "@jupyter-widgets/controls",
            "_model_module_version": "1.5.0",
            "_model_name": "DescriptionStyleModel",
            "_view_count": null,
            "_view_module": "@jupyter-widgets/base",
            "_view_module_version": "1.2.0",
            "_view_name": "StyleView",
            "description_width": ""
          }
        },
        "3c097d82221d41278ae540e24e95c854": {
          "model_module": "@jupyter-widgets/base",
          "model_module_version": "1.2.0",
          "model_name": "LayoutModel",
          "state": {
            "_model_module": "@jupyter-widgets/base",
            "_model_module_version": "1.2.0",
            "_model_name": "LayoutModel",
            "_view_count": null,
            "_view_module": "@jupyter-widgets/base",
            "_view_module_version": "1.2.0",
            "_view_name": "LayoutView",
            "align_content": null,
            "align_items": null,
            "align_self": null,
            "border": null,
            "bottom": null,
            "display": null,
            "flex": null,
            "flex_flow": null,
            "grid_area": null,
            "grid_auto_columns": null,
            "grid_auto_flow": null,
            "grid_auto_rows": null,
            "grid_column": null,
            "grid_gap": null,
            "grid_row": null,
            "grid_template_areas": null,
            "grid_template_columns": null,
            "grid_template_rows": null,
            "height": null,
            "justify_content": null,
            "justify_items": null,
            "left": null,
            "margin": null,
            "max_height": null,
            "max_width": null,
            "min_height": null,
            "min_width": null,
            "object_fit": null,
            "object_position": null,
            "order": null,
            "overflow": null,
            "overflow_x": null,
            "overflow_y": null,
            "padding": null,
            "right": null,
            "top": null,
            "visibility": null,
            "width": null
          }
        },
        "4071d4a512ec434994811bd0e67c744a": {
          "model_module": "@jupyter-widgets/base",
          "model_module_version": "1.2.0",
          "model_name": "LayoutModel",
          "state": {
            "_model_module": "@jupyter-widgets/base",
            "_model_module_version": "1.2.0",
            "_model_name": "LayoutModel",
            "_view_count": null,
            "_view_module": "@jupyter-widgets/base",
            "_view_module_version": "1.2.0",
            "_view_name": "LayoutView",
            "align_content": null,
            "align_items": null,
            "align_self": null,
            "border": null,
            "bottom": null,
            "display": null,
            "flex": null,
            "flex_flow": null,
            "grid_area": null,
            "grid_auto_columns": null,
            "grid_auto_flow": null,
            "grid_auto_rows": null,
            "grid_column": null,
            "grid_gap": null,
            "grid_row": null,
            "grid_template_areas": null,
            "grid_template_columns": null,
            "grid_template_rows": null,
            "height": null,
            "justify_content": null,
            "justify_items": null,
            "left": null,
            "margin": null,
            "max_height": null,
            "max_width": null,
            "min_height": null,
            "min_width": null,
            "object_fit": null,
            "object_position": null,
            "order": null,
            "overflow": null,
            "overflow_x": null,
            "overflow_y": null,
            "padding": null,
            "right": null,
            "top": null,
            "visibility": null,
            "width": null
          }
        },
        "41032f447a844ba48230a1e62ba2ac21": {
          "model_module": "@jupyter-widgets/controls",
          "model_module_version": "1.5.0",
          "model_name": "PasswordModel",
          "state": {
            "_dom_classes": [],
            "_model_module": "@jupyter-widgets/controls",
            "_model_module_version": "1.5.0",
            "_model_name": "PasswordModel",
            "_view_count": null,
            "_view_module": "@jupyter-widgets/controls",
            "_view_module_version": "1.5.0",
            "_view_name": "PasswordView",
            "continuous_update": true,
            "description": "Token:",
            "description_tooltip": null,
            "disabled": false,
            "layout": "IPY_MODEL_4071d4a512ec434994811bd0e67c744a",
            "placeholder": "​",
            "style": "IPY_MODEL_4202dff9896145f2a51c68a86cf4439e",
            "value": ""
          }
        },
        "41817eaa54d64f9288a036a01550bede": {
          "model_module": "@jupyter-widgets/base",
          "model_module_version": "1.2.0",
          "model_name": "LayoutModel",
          "state": {
            "_model_module": "@jupyter-widgets/base",
            "_model_module_version": "1.2.0",
            "_model_name": "LayoutModel",
            "_view_count": null,
            "_view_module": "@jupyter-widgets/base",
            "_view_module_version": "1.2.0",
            "_view_name": "LayoutView",
            "align_content": null,
            "align_items": null,
            "align_self": null,
            "border": null,
            "bottom": null,
            "display": null,
            "flex": null,
            "flex_flow": null,
            "grid_area": null,
            "grid_auto_columns": null,
            "grid_auto_flow": null,
            "grid_auto_rows": null,
            "grid_column": null,
            "grid_gap": null,
            "grid_row": null,
            "grid_template_areas": null,
            "grid_template_columns": null,
            "grid_template_rows": null,
            "height": null,
            "justify_content": null,
            "justify_items": null,
            "left": null,
            "margin": null,
            "max_height": null,
            "max_width": null,
            "min_height": null,
            "min_width": null,
            "object_fit": null,
            "object_position": null,
            "order": null,
            "overflow": null,
            "overflow_x": null,
            "overflow_y": null,
            "padding": null,
            "right": null,
            "top": null,
            "visibility": null,
            "width": null
          }
        },
        "4202dff9896145f2a51c68a86cf4439e": {
          "model_module": "@jupyter-widgets/controls",
          "model_module_version": "1.5.0",
          "model_name": "DescriptionStyleModel",
          "state": {
            "_model_module": "@jupyter-widgets/controls",
            "_model_module_version": "1.5.0",
            "_model_name": "DescriptionStyleModel",
            "_view_count": null,
            "_view_module": "@jupyter-widgets/base",
            "_view_module_version": "1.2.0",
            "_view_name": "StyleView",
            "description_width": ""
          }
        },
        "4de7709584144cd3b7861f75b9f33604": {
          "model_module": "@jupyter-widgets/base",
          "model_module_version": "1.2.0",
          "model_name": "LayoutModel",
          "state": {
            "_model_module": "@jupyter-widgets/base",
            "_model_module_version": "1.2.0",
            "_model_name": "LayoutModel",
            "_view_count": null,
            "_view_module": "@jupyter-widgets/base",
            "_view_module_version": "1.2.0",
            "_view_name": "LayoutView",
            "align_content": null,
            "align_items": null,
            "align_self": null,
            "border": null,
            "bottom": null,
            "display": null,
            "flex": null,
            "flex_flow": null,
            "grid_area": null,
            "grid_auto_columns": null,
            "grid_auto_flow": null,
            "grid_auto_rows": null,
            "grid_column": null,
            "grid_gap": null,
            "grid_row": null,
            "grid_template_areas": null,
            "grid_template_columns": null,
            "grid_template_rows": null,
            "height": null,
            "justify_content": null,
            "justify_items": null,
            "left": null,
            "margin": null,
            "max_height": null,
            "max_width": null,
            "min_height": null,
            "min_width": null,
            "object_fit": null,
            "object_position": null,
            "order": null,
            "overflow": null,
            "overflow_x": null,
            "overflow_y": null,
            "padding": null,
            "right": null,
            "top": null,
            "visibility": null,
            "width": null
          }
        },
        "551f40b92c814eb1b130c99ed6a0ba60": {
          "model_module": "@jupyter-widgets/controls",
          "model_module_version": "1.5.0",
          "model_name": "HTMLModel",
          "state": {
            "_dom_classes": [],
            "_model_module": "@jupyter-widgets/controls",
            "_model_module_version": "1.5.0",
            "_model_name": "HTMLModel",
            "_view_count": null,
            "_view_module": "@jupyter-widgets/controls",
            "_view_module_version": "1.5.0",
            "_view_name": "HTMLView",
            "description": "",
            "description_tooltip": null,
            "layout": "IPY_MODEL_a8628bd2f3364e07a02cc645227c8f83",
            "placeholder": "​",
            "style": "IPY_MODEL_09417ecb6ba849c9ad661f337d9b64bd",
            "value": "\n<b>Thank You</b></center>"
          }
        },
        "71575210b2ca49c095a9b95d14710218": {
          "model_module": "@jupyter-widgets/controls",
          "model_module_version": "1.5.0",
          "model_name": "LabelModel",
          "state": {
            "_dom_classes": [],
            "_model_module": "@jupyter-widgets/controls",
            "_model_module_version": "1.5.0",
            "_model_name": "LabelModel",
            "_view_count": null,
            "_view_module": "@jupyter-widgets/controls",
            "_view_module_version": "1.5.0",
            "_view_name": "LabelView",
            "description": "",
            "description_tooltip": null,
            "layout": "IPY_MODEL_c5b4d172cf694da2b66ec49820895943",
            "placeholder": "​",
            "style": "IPY_MODEL_2b0ffe04e3e74b748a98fb774e5af0f6",
            "value": "Connecting..."
          }
        },
        "8ed51858f1c04d7d8ee12e0c159d419d": {
          "model_module": "@jupyter-widgets/controls",
          "model_module_version": "1.5.0",
          "model_name": "DescriptionStyleModel",
          "state": {
            "_model_module": "@jupyter-widgets/controls",
            "_model_module_version": "1.5.0",
            "_model_name": "DescriptionStyleModel",
            "_view_count": null,
            "_view_module": "@jupyter-widgets/base",
            "_view_module_version": "1.2.0",
            "_view_name": "StyleView",
            "description_width": ""
          }
        },
        "9e899aaa0c6e4ab7ad0f4113de23d759": {
          "model_module": "@jupyter-widgets/controls",
          "model_module_version": "1.5.0",
          "model_name": "LabelModel",
          "state": {
            "_dom_classes": [],
            "_model_module": "@jupyter-widgets/controls",
            "_model_module_version": "1.5.0",
            "_model_name": "LabelModel",
            "_view_count": null,
            "_view_module": "@jupyter-widgets/controls",
            "_view_module_version": "1.5.0",
            "_view_name": "LabelView",
            "description": "",
            "description_tooltip": null,
            "layout": "IPY_MODEL_aaf9214441bd459e9505589a4b991baf",
            "placeholder": "​",
            "style": "IPY_MODEL_2771d0b36a634a878cad697794dde1c1",
            "value": "Kaggle credentials successfully validated."
          }
        },
        "a299e9c9d7b64b4680a40bee3fbf6d66": {
          "model_module": "@jupyter-widgets/controls",
          "model_module_version": "1.5.0",
          "model_name": "ButtonStyleModel",
          "state": {
            "_model_module": "@jupyter-widgets/controls",
            "_model_module_version": "1.5.0",
            "_model_name": "ButtonStyleModel",
            "_view_count": null,
            "_view_module": "@jupyter-widgets/base",
            "_view_module_version": "1.2.0",
            "_view_name": "StyleView",
            "button_color": null,
            "font_weight": ""
          }
        },
        "a8628bd2f3364e07a02cc645227c8f83": {
          "model_module": "@jupyter-widgets/base",
          "model_module_version": "1.2.0",
          "model_name": "LayoutModel",
          "state": {
            "_model_module": "@jupyter-widgets/base",
            "_model_module_version": "1.2.0",
            "_model_name": "LayoutModel",
            "_view_count": null,
            "_view_module": "@jupyter-widgets/base",
            "_view_module_version": "1.2.0",
            "_view_name": "LayoutView",
            "align_content": null,
            "align_items": null,
            "align_self": null,
            "border": null,
            "bottom": null,
            "display": null,
            "flex": null,
            "flex_flow": null,
            "grid_area": null,
            "grid_auto_columns": null,
            "grid_auto_flow": null,
            "grid_auto_rows": null,
            "grid_column": null,
            "grid_gap": null,
            "grid_row": null,
            "grid_template_areas": null,
            "grid_template_columns": null,
            "grid_template_rows": null,
            "height": null,
            "justify_content": null,
            "justify_items": null,
            "left": null,
            "margin": null,
            "max_height": null,
            "max_width": null,
            "min_height": null,
            "min_width": null,
            "object_fit": null,
            "object_position": null,
            "order": null,
            "overflow": null,
            "overflow_x": null,
            "overflow_y": null,
            "padding": null,
            "right": null,
            "top": null,
            "visibility": null,
            "width": null
          }
        },
        "aaf9214441bd459e9505589a4b991baf": {
          "model_module": "@jupyter-widgets/base",
          "model_module_version": "1.2.0",
          "model_name": "LayoutModel",
          "state": {
            "_model_module": "@jupyter-widgets/base",
            "_model_module_version": "1.2.0",
            "_model_name": "LayoutModel",
            "_view_count": null,
            "_view_module": "@jupyter-widgets/base",
            "_view_module_version": "1.2.0",
            "_view_name": "LayoutView",
            "align_content": null,
            "align_items": null,
            "align_self": null,
            "border": null,
            "bottom": null,
            "display": null,
            "flex": null,
            "flex_flow": null,
            "grid_area": null,
            "grid_auto_columns": null,
            "grid_auto_flow": null,
            "grid_auto_rows": null,
            "grid_column": null,
            "grid_gap": null,
            "grid_row": null,
            "grid_template_areas": null,
            "grid_template_columns": null,
            "grid_template_rows": null,
            "height": null,
            "justify_content": null,
            "justify_items": null,
            "left": null,
            "margin": null,
            "max_height": null,
            "max_width": null,
            "min_height": null,
            "min_width": null,
            "object_fit": null,
            "object_position": null,
            "order": null,
            "overflow": null,
            "overflow_x": null,
            "overflow_y": null,
            "padding": null,
            "right": null,
            "top": null,
            "visibility": null,
            "width": null
          }
        },
        "c5b4d172cf694da2b66ec49820895943": {
          "model_module": "@jupyter-widgets/base",
          "model_module_version": "1.2.0",
          "model_name": "LayoutModel",
          "state": {
            "_model_module": "@jupyter-widgets/base",
            "_model_module_version": "1.2.0",
            "_model_name": "LayoutModel",
            "_view_count": null,
            "_view_module": "@jupyter-widgets/base",
            "_view_module_version": "1.2.0",
            "_view_name": "LayoutView",
            "align_content": null,
            "align_items": null,
            "align_self": null,
            "border": null,
            "bottom": null,
            "display": null,
            "flex": null,
            "flex_flow": null,
            "grid_area": null,
            "grid_auto_columns": null,
            "grid_auto_flow": null,
            "grid_auto_rows": null,
            "grid_column": null,
            "grid_gap": null,
            "grid_row": null,
            "grid_template_areas": null,
            "grid_template_columns": null,
            "grid_template_rows": null,
            "height": null,
            "justify_content": null,
            "justify_items": null,
            "left": null,
            "margin": null,
            "max_height": null,
            "max_width": null,
            "min_height": null,
            "min_width": null,
            "object_fit": null,
            "object_position": null,
            "order": null,
            "overflow": null,
            "overflow_x": null,
            "overflow_y": null,
            "padding": null,
            "right": null,
            "top": null,
            "visibility": null,
            "width": null
          }
        },
        "febc58c1728f415aaac5bd81f0bb1c1b": {
          "model_module": "@jupyter-widgets/controls",
          "model_module_version": "1.5.0",
          "model_name": "DescriptionStyleModel",
          "state": {
            "_model_module": "@jupyter-widgets/controls",
            "_model_module_version": "1.5.0",
            "_model_name": "DescriptionStyleModel",
            "_view_count": null,
            "_view_module": "@jupyter-widgets/base",
            "_view_module_version": "1.2.0",
            "_view_name": "StyleView",
            "description_width": ""
          }
        }
      }
    }
  },
  "nbformat": 4,
  "nbformat_minor": 5
}
